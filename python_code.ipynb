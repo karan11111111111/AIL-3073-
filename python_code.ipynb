{
  "cells": [
    {
      "cell_type": "markdown",
      "metadata": {
        "id": "view-in-github",
        "colab_type": "text"
      },
      "source": [
        "<a href=\"https://colab.research.google.com/github/karan11111111111/AIL-3073-/blob/main/python_code.ipynb\" target=\"_parent\"><img src=\"https://colab.research.google.com/assets/colab-badge.svg\" alt=\"Open In Colab\"/></a>"
      ]
    },
    {
      "cell_type": "code",
      "execution_count": null,
      "metadata": {
        "id": "1a58Fw3ztzZp"
      },
      "outputs": [],
      "source": [
        "s = 'hey' # or \"hey\"\n",
        "inte = 1\n",
        "flt = 1.42"
      ]
    },
    {
      "cell_type": "code",
      "source": [],
      "metadata": {
        "id": "J0BX4ozFXy5F"
      },
      "execution_count": null,
      "outputs": []
    },
    {
      "cell_type": "code",
      "execution_count": null,
      "metadata": {
        "colab": {
          "base_uri": "https://localhost:8080/"
        },
        "id": "wEmi7oMuuEp2",
        "outputId": "e305a838-3ba6-46ac-f3ba-dd7203743bc3"
      },
      "outputs": [
        {
          "output_type": "stream",
          "name": "stdout",
          "text": [
            "1.42\n",
            "1\n",
            "hey\n",
            "e\n"
          ]
        }
      ],
      "source": [
        "# printing value\n",
        "print(flt)\n",
        "print(inte)\n",
        "print(s)\n",
        "print(s[1])"
      ]
    },
    {
      "cell_type": "code",
      "execution_count": null,
      "metadata": {
        "colab": {
          "base_uri": "https://localhost:8080/"
        },
        "id": "DCUw9a8muQ74",
        "outputId": "bd14b9ac-80a8-4c0a-f3e4-ded85294ea45"
      },
      "outputs": [
        {
          "name": "stdout",
          "output_type": "stream",
          "text": [
            "<class 'str'>\n"
          ]
        }
      ],
      "source": [
        "# type() to print type of value variable store\n",
        "print(type(s))"
      ]
    },
    {
      "cell_type": "code",
      "execution_count": null,
      "metadata": {
        "colab": {
          "base_uri": "https://localhost:8080/"
        },
        "id": "NRRY7S_kucw1",
        "outputId": "6a33f80e-88de-46f5-eaac-3dca4bb6e67d"
      },
      "outputs": [
        {
          "name": "stdout",
          "output_type": "stream",
          "text": [
            "<class 'int'>\n"
          ]
        }
      ],
      "source": [
        "s = 891\n",
        "print(type(s)) # type is dynamic in python"
      ]
    },
    {
      "cell_type": "code",
      "execution_count": null,
      "metadata": {
        "colab": {
          "base_uri": "https://localhost:8080/"
        },
        "id": "JRwYKKMMu9y3",
        "outputId": "c471e78a-4716-4428-803f-a39986eb6157"
      },
      "outputs": [
        {
          "name": "stdout",
          "output_type": "stream",
          "text": [
            "True\n"
          ]
        }
      ],
      "source": [
        "# Primitive Data Structures\n",
        "# Integers (var = 1312)\n",
        "# Float (var = 1.423)\n",
        "# Strings (var_name = \"string\" or 'string')\n",
        "# Boolean (var_name = True/False)\n",
        "\n",
        "mark = True\n",
        "print(mark)"
      ]
    },
    {
      "cell_type": "code",
      "execution_count": null,
      "metadata": {
        "colab": {
          "base_uri": "https://localhost:8080/"
        },
        "id": "nUp3ZdAfvzk9",
        "outputId": "228bc3c6-c90a-46a1-b669-66fe05d012f4"
      },
      "outputs": [
        {
          "output_type": "stream",
          "name": "stdout",
          "text": [
            "Enter your value: 123\n",
            "<class 'str'>\n"
          ]
        }
      ],
      "source": [
        "sample_input = input(\"Enter your value: \")\n",
        "print(type(sample_input)) # always string type"
      ]
    },
    {
      "cell_type": "code",
      "execution_count": null,
      "metadata": {
        "colab": {
          "base_uri": "https://localhost:8080/"
        },
        "id": "qztTP53T3VTX",
        "outputId": "f16dd28c-68b2-4582-a334-2015d3343e8a"
      },
      "outputs": [
        {
          "output_type": "stream",
          "name": "stdout",
          "text": [
            "Hello\n",
            "world\n"
          ]
        }
      ],
      "source": [
        "# output value\n",
        "\n",
        "w = \"world\"\n",
        "print(\"Hello\")\n",
        "print(w)"
      ]
    },
    {
      "cell_type": "code",
      "execution_count": null,
      "metadata": {
        "colab": {
          "base_uri": "https://localhost:8080/"
        },
        "id": "zLpmTSoG4cdP",
        "outputId": "48be4e32-f0fc-49ea-b058-0d0f6eb08fc5"
      },
      "outputs": [
        {
          "output_type": "stream",
          "name": "stdout",
          "text": [
            "Hello world\n"
          ]
        }
      ],
      "source": [
        "# print in same line\n",
        "print(\"Hello\", end=\" \")\n",
        "print(w)"
      ]
    },
    {
      "cell_type": "code",
      "execution_count": null,
      "metadata": {
        "colab": {
          "base_uri": "https://localhost:8080/"
        },
        "id": "l2fwRIqC4gTV",
        "outputId": "0e11d7c6-1164-4ab8-fc24-0507cfe5f527"
      },
      "outputs": [
        {
          "output_type": "stream",
          "name": "stdout",
          "text": [
            "Hello world\n",
            "123.12 hello world\n",
            "123.12 hello world\n"
          ]
        }
      ],
      "source": [
        "print(\"Hello\", w)\n",
        "num = 123.12\n",
        "print(num, \"hello\", w)\n",
        "print(f\"{num} hello {w}\")"
      ]
    },
    {
      "cell_type": "code",
      "execution_count": null,
      "metadata": {
        "colab": {
          "base_uri": "https://localhost:8080/"
        },
        "id": "gTp_yZeg4KgQ",
        "outputId": "af42b143-b18e-4008-a11c-48879f0959ae"
      },
      "outputs": [
        {
          "name": "stdout",
          "output_type": "stream",
          "text": [
            "Enter your value: 76\n",
            "<class 'str'>\n",
            "76\n"
          ]
        }
      ],
      "source": [
        "sample_input = input(\"Enter your value: \")\n",
        "print(type(sample_input)) # always string type\n",
        "print(sample_input)"
      ]
    },
    {
      "cell_type": "code",
      "execution_count": null,
      "metadata": {
        "colab": {
          "base_uri": "https://localhost:8080/",
          "height": 228
        },
        "id": "b3hPu3xIwn8G",
        "outputId": "b40c2bc8-3639-4072-8831-8b392e8dc21e"
      },
      "outputs": [
        {
          "name": "stdout",
          "output_type": "stream",
          "text": [
            "Enter your value: abc\n"
          ]
        },
        {
          "output_type": "error",
          "ename": "ValueError",
          "evalue": "invalid literal for int() with base 10: 'abc'",
          "traceback": [
            "\u001b[0;31m---------------------------------------------------------------------------\u001b[0m",
            "\u001b[0;31mValueError\u001b[0m                                Traceback (most recent call last)",
            "\u001b[0;32m<ipython-input-12-c3ac0e1588ef>\u001b[0m in \u001b[0;36m<cell line: 3>\u001b[0;34m()\u001b[0m\n\u001b[1;32m      1\u001b[0m \u001b[0;31m# float() to covnert to flaot\u001b[0m\u001b[0;34m\u001b[0m\u001b[0;34m\u001b[0m\u001b[0m\n\u001b[1;32m      2\u001b[0m \u001b[0;31m# bool() to convert to boolean, bool(string) will return false only if string is empty\u001b[0m\u001b[0;34m\u001b[0m\u001b[0;34m\u001b[0m\u001b[0m\n\u001b[0;32m----> 3\u001b[0;31m \u001b[0msample_input\u001b[0m \u001b[0;34m=\u001b[0m \u001b[0mint\u001b[0m\u001b[0;34m(\u001b[0m\u001b[0minput\u001b[0m\u001b[0;34m(\u001b[0m\u001b[0;34m\"Enter your value: \"\u001b[0m\u001b[0;34m)\u001b[0m\u001b[0;34m)\u001b[0m\u001b[0;34m\u001b[0m\u001b[0;34m\u001b[0m\u001b[0m\n\u001b[0m\u001b[1;32m      4\u001b[0m \u001b[0mprint\u001b[0m\u001b[0;34m(\u001b[0m\u001b[0mtype\u001b[0m\u001b[0;34m(\u001b[0m\u001b[0msample_input\u001b[0m\u001b[0;34m)\u001b[0m\u001b[0;34m)\u001b[0m \u001b[0;31m# always string type\u001b[0m\u001b[0;34m\u001b[0m\u001b[0;34m\u001b[0m\u001b[0m\n\u001b[1;32m      5\u001b[0m \u001b[0mprint\u001b[0m\u001b[0;34m(\u001b[0m\u001b[0msample_input\u001b[0m\u001b[0;34m)\u001b[0m\u001b[0;34m\u001b[0m\u001b[0;34m\u001b[0m\u001b[0m\n",
            "\u001b[0;31mValueError\u001b[0m: invalid literal for int() with base 10: 'abc'"
          ]
        }
      ],
      "source": [
        "# float() to covnert to flaot\n",
        "# bool() to convert to boolean, bool(\\string) will return false only if string is empty\n",
        "sample_input = int(input(\"Enter your value: \"))\n",
        "print(type(sample_input)) # always string type\n",
        "print(sample_input)"
      ]
    },
    {
      "cell_type": "code",
      "execution_count": null,
      "metadata": {
        "colab": {
          "base_uri": "https://localhost:8080/"
        },
        "id": "hzxueoskx0OX",
        "outputId": "9fe9f1a7-c8ce-44cb-d6c4-a5af98136e34"
      },
      "outputs": [
        {
          "output_type": "stream",
          "name": "stdout",
          "text": [
            "<class 'list'>\n",
            "[1, 2, 3, 4, 5]\n",
            "4\n"
          ]
        }
      ],
      "source": [
        "# List in python https://docs.python.org/3/tutorial/datastructures.html\n",
        "lst = [1,2,3,4,5] # lst = [] for empty list\n",
        "print(type(lst))\n",
        "print(lst)\n",
        "print(lst[3])"
      ]
    },
    {
      "cell_type": "code",
      "execution_count": null,
      "metadata": {
        "colab": {
          "base_uri": "https://localhost:8080/"
        },
        "id": "YkMlGPP2zz3V",
        "outputId": "089d2617-4077-4511-e04d-427a9a19edf0"
      },
      "outputs": [
        {
          "output_type": "stream",
          "name": "stdout",
          "text": [
            "[1, 2, 3, 4, 5, 8]\n"
          ]
        }
      ],
      "source": [
        "lst.append(8)\n",
        "print(lst)"
      ]
    },
    {
      "cell_type": "code",
      "execution_count": null,
      "metadata": {
        "colab": {
          "base_uri": "https://localhost:8080/"
        },
        "id": "uYXghovVz52o",
        "outputId": "3ac51fdd-5c0d-42f8-e636-1fdbe6915bb6"
      },
      "outputs": [
        {
          "output_type": "stream",
          "name": "stdout",
          "text": [
            "[1, 2, 3, 4, 5, 8, 'hey']\n"
          ]
        }
      ],
      "source": [
        "lst.append('hey')\n",
        "print(lst)"
      ]
    },
    {
      "cell_type": "code",
      "execution_count": null,
      "metadata": {
        "colab": {
          "base_uri": "https://localhost:8080/"
        },
        "id": "J1COTHas0AWM",
        "outputId": "0cf04a33-9e47-4997-8b42-cccb82b72dcb"
      },
      "outputs": [
        {
          "output_type": "stream",
          "name": "stdout",
          "text": [
            "[1, 'world', 2, 3, 4, 5, 8, 'hey']\n"
          ]
        }
      ],
      "source": [
        "# list.insert(i, x)\n",
        "# Insert an item at a given position. The first argument is the index of the element before which to insert,\n",
        "# so a.insert(0, x) inserts at the front of the list, and a.insert(len(a), x) is equivalent to a.append(x).\n",
        "lst.insert(1, 'world')\n",
        "print(lst)"
      ]
    },
    {
      "cell_type": "code",
      "execution_count": null,
      "metadata": {
        "colab": {
          "base_uri": "https://localhost:8080/"
        },
        "id": "QeqK-FPx0zWl",
        "outputId": "4bef30fc-34ab-4ad2-be38-63f7bbfe6b0d"
      },
      "outputs": [
        {
          "output_type": "stream",
          "name": "stdout",
          "text": [
            "['world', 2, 3]\n"
          ]
        }
      ],
      "source": [
        "lst = lst[1:4] # return list of elements from index [1 to (4-1)]\n",
        "print(lst)"
      ]
    },
    {
      "cell_type": "code",
      "execution_count": null,
      "metadata": {
        "colab": {
          "base_uri": "https://localhost:8080/"
        },
        "id": "Vgd5jGQB2bTm",
        "outputId": "ad3ff642-61d7-4b66-cea1-4b0920ccf8f6"
      },
      "outputs": [
        {
          "name": "stdout",
          "output_type": "stream",
          "text": [
            "[8, 7, 2, 5, 1, 2, 45, 1]\n",
            "[1, 1, 2, 2, 5, 7, 8, 45]\n"
          ]
        }
      ],
      "source": [
        "lst = [8,7,2,5,1,2,45,1]\n",
        "print(lst)\n",
        "lst.sort() # lst.sort(reverse = True)\n",
        "print(lst)"
      ]
    },
    {
      "cell_type": "code",
      "execution_count": null,
      "metadata": {
        "colab": {
          "base_uri": "https://localhost:8080/"
        },
        "id": "tZObGig2s95m",
        "outputId": "a0a7253a-0397-44d7-906a-51be4d1c9a2d"
      },
      "outputs": [
        {
          "output_type": "stream",
          "name": "stdout",
          "text": [
            "0\n",
            "1\n",
            "2\n",
            "3\n",
            "4\n",
            "5\n",
            "6\n",
            "7\n",
            "8\n",
            "9\n"
          ]
        }
      ],
      "source": [
        "# prompt: for loop in python from 0 to n-1\n",
        "\n",
        "n = 10  # Replace with your desired value of n\n",
        "for i in range(n):\n",
        "  print(i)"
      ]
    },
    {
      "cell_type": "code",
      "execution_count": null,
      "metadata": {
        "colab": {
          "base_uri": "https://localhost:8080/"
        },
        "id": "ViIyXDgouKIN",
        "outputId": "b78dafc3-e35a-439c-b7dd-9aded510e2b0"
      },
      "outputs": [
        {
          "name": "stdout",
          "output_type": "stream",
          "text": [
            "1\n",
            "2\n",
            "3\n",
            "4\n",
            "5\n"
          ]
        }
      ],
      "source": [
        "lst = [1, 2, 3, 4, 5]\n",
        "\n",
        "for x in lst:\n",
        "  print(x)"
      ]
    },
    {
      "cell_type": "code",
      "execution_count": null,
      "metadata": {
        "colab": {
          "base_uri": "https://localhost:8080/"
        },
        "id": "w9slhlamvhWV",
        "outputId": "8e752f84-b4cb-4756-e305-2fa9ff2f5f0b"
      },
      "outputs": [
        {
          "name": "stdout",
          "output_type": "stream",
          "text": [
            "a is smaller than b\n",
            "a is smaller than b\n"
          ]
        }
      ],
      "source": [
        "a = 1\n",
        "b = 3\n",
        "\n",
        "while a < b:\n",
        "  print(\"a is smaller than b\")\n",
        "  a = a + 1"
      ]
    },
    {
      "cell_type": "code",
      "execution_count": null,
      "metadata": {
        "colab": {
          "base_uri": "https://localhost:8080/"
        },
        "id": "7zIlCiUIwZxn",
        "outputId": "50f318b0-b3dd-4805-ed91-8ac1fdd64e5c"
      },
      "outputs": [
        {
          "name": "stdout",
          "output_type": "stream",
          "text": [
            "a is smaller than b\n"
          ]
        }
      ],
      "source": [
        "a = 1\n",
        "b = 2\n",
        "\n",
        "if a < b:\n",
        "  print(\"a is smaller than b\")"
      ]
    },
    {
      "cell_type": "code",
      "execution_count": null,
      "metadata": {
        "colab": {
          "base_uri": "https://localhost:8080/"
        },
        "id": "J_aqq4jPx9C9",
        "outputId": "ff6d6681-abfc-4257-89ab-1a8542860d9f"
      },
      "outputs": [
        {
          "name": "stdout",
          "output_type": "stream",
          "text": [
            "a is smaller than b\n"
          ]
        }
      ],
      "source": [
        "a = 1\n",
        "b = 2\n",
        "\n",
        "if a < b:\n",
        "  print(\"a is smaller than b\")\n",
        "else:\n",
        "  print(\"a is not smaller than b\")"
      ]
    },
    {
      "cell_type": "code",
      "execution_count": null,
      "metadata": {
        "colab": {
          "base_uri": "https://localhost:8080/"
        },
        "id": "HTUPU9RtyBq3",
        "outputId": "0173d523-9b50-406d-8ed7-f5fb0d7030d8"
      },
      "outputs": [
        {
          "name": "stdout",
          "output_type": "stream",
          "text": [
            "a is equal to b\n"
          ]
        }
      ],
      "source": [
        "a = 1\n",
        "b = 1\n",
        "\n",
        "if a < b:\n",
        "  print(\"a is smaller than b\")\n",
        "elif a > b:\n",
        "  print(\"a is not smaller than b\")\n",
        "else:\n",
        "  print(\"a is equal to b\")"
      ]
    },
    {
      "cell_type": "code",
      "execution_count": null,
      "metadata": {
        "id": "wxdPyj1x0RVA"
      },
      "outputs": [],
      "source": [
        "# prompt: function example in python\n",
        "\n",
        "def add(a, b):\n",
        "  \"\"\"\n",
        "  This function adds two numbers and returns the sum.\n",
        "  \"\"\"\n",
        "  return a + b\n",
        "\n",
        "def subtract(a, b):\n",
        "  \"\"\"\n",
        "  This function subtracts two numbers and returns the difference.\n",
        "  \"\"\"\n",
        "  return a - b\n",
        "\n",
        "def multiply(a, b):\n",
        "  \"\"\"\n",
        "  This function multiplies two numbers and returns the product.\n",
        "  \"\"\"\n",
        "  return a * b\n",
        "\n",
        "def divide(a, b):\n",
        "  \"\"\"\n",
        "  This function divides two numbers and returns the quotient.\n",
        "  \"\"\"\n",
        "  if b == 0:\n",
        "    return \"Division by zero is not allowed\"\n",
        "  else:\n",
        "    return a / b"
      ]
    },
    {
      "cell_type": "code",
      "execution_count": null,
      "metadata": {
        "colab": {
          "base_uri": "https://localhost:8080/"
        },
        "id": "nHHz2kex0kHN",
        "outputId": "9dc3dfad-8921-438c-c214-4a14e694ca50"
      },
      "outputs": [
        {
          "name": "stdout",
          "output_type": "stream",
          "text": [
            "7\n"
          ]
        }
      ],
      "source": [
        "print(add(3,4))"
      ]
    },
    {
      "cell_type": "code",
      "execution_count": null,
      "metadata": {
        "colab": {
          "base_uri": "https://localhost:8080/"
        },
        "id": "75wdWhggSkgH",
        "outputId": "1011f74e-65fe-498c-b5b2-4c594ac038de"
      },
      "outputs": [
        {
          "name": "stdout",
          "output_type": "stream",
          "text": [
            "[10, 2, 3, 4, 5]\n"
          ]
        }
      ],
      "source": [
        "# using = to copy list creates swallow copy\n",
        "lst = [1,2,3,4,5]\n",
        "lst2 = lst\n",
        "lst2[0] = 10\n",
        "print(lst)"
      ]
    },
    {
      "cell_type": "code",
      "execution_count": null,
      "metadata": {
        "colab": {
          "base_uri": "https://localhost:8080/"
        },
        "id": "0n_3C6P2VJc1",
        "outputId": "902dc2e9-d738-4f36-d0e3-20549711d0a1"
      },
      "outputs": [
        {
          "name": "stdout",
          "output_type": "stream",
          "text": [
            "[1, 2, 3, 4, 5]\n",
            "[10, 2, 3, 4, 5]\n"
          ]
        }
      ],
      "source": [
        "# use .copy() of list creates deep copy\n",
        "lst = [1,2,3,4,5]\n",
        "lst2 = lst.copy()\n",
        "lst2[0] = 10\n",
        "print(lst)\n",
        "print(lst2)"
      ]
    },
    {
      "cell_type": "code",
      "execution_count": null,
      "metadata": {
        "colab": {
          "base_uri": "https://localhost:8080/"
        },
        "id": "WlKCHrk-Vb7O",
        "outputId": "f931899e-dfeb-4156-ac28-6e172d2c7c94"
      },
      "outputs": [
        {
          "name": "stdout",
          "output_type": "stream",
          "text": [
            "(1, 'hey', 3.1)\n",
            "<class 'tuple'>\n",
            "1\n",
            "hey\n",
            "3.1\n"
          ]
        }
      ],
      "source": [
        "# tuples - variable to store multiple values\n",
        "\n",
        "t = (1,\"hey\",3.1)\n",
        "print(t)\n",
        "print(type(t))\n",
        "print(t[0])\n",
        "print(t[1])\n",
        "print(t[2])"
      ]
    },
    {
      "cell_type": "code",
      "execution_count": null,
      "metadata": {
        "colab": {
          "base_uri": "https://localhost:8080/"
        },
        "id": "wDpGFqOmYya-",
        "outputId": "3198f36a-cf4a-4ab1-90ea-bd89227810a3"
      },
      "outputs": [
        {
          "name": "stdout",
          "output_type": "stream",
          "text": [
            "17\n",
            "15\n",
            "12\n"
          ]
        }
      ],
      "source": [
        "#  stack in python using list\n",
        "\n",
        "stack = []\n",
        "stack.append(12)\n",
        "stack.append(15)\n",
        "stack.append(17)\n",
        "print(stack.pop())\n",
        "print(stack.pop())\n",
        "print(stack.pop())"
      ]
    },
    {
      "cell_type": "code",
      "execution_count": null,
      "metadata": {
        "colab": {
          "base_uri": "https://localhost:8080/"
        },
        "id": "qQcBKriNZIY2",
        "outputId": "5eb0fec2-4f9c-4b4c-ba7c-67cd84f30980"
      },
      "outputs": [
        {
          "name": "stdout",
          "output_type": "stream",
          "text": [
            "12\n",
            "15\n",
            "17\n"
          ]
        }
      ],
      "source": [
        "queue = []\n",
        "queue.append(12)\n",
        "queue.append(15)\n",
        "queue.append(17)\n",
        "print(queue.pop(0))\n",
        "print(queue.pop(0))\n",
        "print(queue.pop(0))"
      ]
    },
    {
      "cell_type": "code",
      "execution_count": null,
      "metadata": {
        "colab": {
          "base_uri": "https://localhost:8080/"
        },
        "id": "JibR5fJjjH24",
        "outputId": "0874c929-92a9-46dd-edc3-076fd093677b"
      },
      "outputs": [
        {
          "name": "stdout",
          "output_type": "stream",
          "text": [
            "1\n",
            "2\n"
          ]
        }
      ],
      "source": [
        "from queue import PriorityQueue\n",
        "\n",
        "q = PriorityQueue()\n",
        "q.put(2)\n",
        "q.put(3)\n",
        "q.put(4)\n",
        "q.put(5)\n",
        "q.put(1)\n",
        "\n",
        "# remove and return\n",
        "# lowest priority item\n",
        "print(q.get())\n",
        "print(q.get())"
      ]
    },
    {
      "cell_type": "code",
      "execution_count": null,
      "metadata": {
        "colab": {
          "base_uri": "https://localhost:8080/"
        },
        "id": "bhP371OmlaR_",
        "outputId": "b24027e8-4f47-4da5-b478-778f4f6a84f5"
      },
      "outputs": [
        {
          "name": "stdout",
          "output_type": "stream",
          "text": [
            "{2: 'red', 'color': 'blue', 'name': 'rohan'}\n",
            "{2: 'green', 'color': 'blue', 'name': 'rohan'}\n",
            "blue\n",
            "green\n"
          ]
        }
      ],
      "source": [
        "thisdict = {}\n",
        "thisdict[2] = \"red\"\n",
        "thisdict[\"color\"] = \"blue\"\n",
        "thisdict[\"name\"] = \"rohan\"\n",
        "print(thisdict)\n",
        "thisdict[2] = \"green\"\n",
        "print(thisdict)\n",
        "\n",
        "print(thisdict['color'])\n",
        "print(thisdict[2])"
      ]
    },
    {
      "cell_type": "code",
      "source": [
        "for i in range(10):\n",
        "   print(i)"
      ],
      "metadata": {
        "colab": {
          "base_uri": "https://localhost:8080/"
        },
        "id": "uH32FSLQ8Zrl",
        "outputId": "b1d45374-d70a-4aeb-b3e9-da947d2c2855"
      },
      "execution_count": null,
      "outputs": [
        {
          "output_type": "stream",
          "name": "stdout",
          "text": [
            "0\n",
            "1\n",
            "2\n",
            "3\n",
            "4\n",
            "5\n",
            "6\n",
            "7\n",
            "8\n",
            "9\n"
          ]
        }
      ]
    },
    {
      "cell_type": "code",
      "source": [
        "if (2,1,3) > (2,1,3):\n",
        "  print(True)"
      ],
      "metadata": {
        "id": "XmrqlEHyOCBA"
      },
      "execution_count": null,
      "outputs": []
    },
    {
      "cell_type": "code",
      "source": [
        "# prompt: take 2d array as input\n",
        "\n",
        "def process_2d_array():\n",
        "  \"\"\"Takes a 2D array as input from the user and performs operations.\"\"\"\n",
        "\n",
        "  rows = int(input(\"Enter the number of rows: \"))\n",
        "  cols = int(input(\"Enter the number of columns: \"))\n",
        "\n",
        "  array_2d = []\n",
        "  for i in range(rows):\n",
        "    row = []\n",
        "    for j in range(cols):\n",
        "      element = int(input(f\"Enter element at row {i+1}, column {j+1}: \"))\n",
        "      row.append(element)\n",
        "    array_2d.append(row)\n",
        "\n",
        "  print(\"Entered 2D array:\")\n",
        "  for row in array_2d:\n",
        "    print(row)\n",
        "\n",
        "  # Example operations (you can add more here)\n",
        "  print(\"\\nSum of all elements:\", sum(sum(row) for row in array_2d))\n",
        "\n",
        "\n",
        "if __name__ == \"__main__\":\n",
        "  process_2d_array()"
      ],
      "metadata": {
        "colab": {
          "base_uri": "https://localhost:8080/",
          "height": 375
        },
        "id": "reiLY0jnlg6X",
        "outputId": "034ece5d-743b-4389-84e2-bdcb758554b3"
      },
      "execution_count": null,
      "outputs": [
        {
          "name": "stdout",
          "output_type": "stream",
          "text": [
            "Enter the number of rows: 4\n",
            "Enter the number of columns: 5\n",
            "Enter element at row 1, column 1: 0 0 0 0 0 0\n"
          ]
        },
        {
          "output_type": "error",
          "ename": "ValueError",
          "evalue": "invalid literal for int() with base 10: '0 0 0 0 0 0'",
          "traceback": [
            "\u001b[0;31m---------------------------------------------------------------------------\u001b[0m",
            "\u001b[0;31mValueError\u001b[0m                                Traceback (most recent call last)",
            "\u001b[0;32m<ipython-input-1-f9562f29ecec>\u001b[0m in \u001b[0;36m<cell line: 25>\u001b[0;34m()\u001b[0m\n\u001b[1;32m     24\u001b[0m \u001b[0;34m\u001b[0m\u001b[0m\n\u001b[1;32m     25\u001b[0m \u001b[0;32mif\u001b[0m \u001b[0m__name__\u001b[0m \u001b[0;34m==\u001b[0m \u001b[0;34m\"__main__\"\u001b[0m\u001b[0;34m:\u001b[0m\u001b[0;34m\u001b[0m\u001b[0;34m\u001b[0m\u001b[0m\n\u001b[0;32m---> 26\u001b[0;31m   \u001b[0mprocess_2d_array\u001b[0m\u001b[0;34m(\u001b[0m\u001b[0;34m)\u001b[0m\u001b[0;34m\u001b[0m\u001b[0;34m\u001b[0m\u001b[0m\n\u001b[0m",
            "\u001b[0;32m<ipython-input-1-f9562f29ecec>\u001b[0m in \u001b[0;36mprocess_2d_array\u001b[0;34m()\u001b[0m\n\u001b[1;32m     11\u001b[0m     \u001b[0mrow\u001b[0m \u001b[0;34m=\u001b[0m \u001b[0;34m[\u001b[0m\u001b[0;34m]\u001b[0m\u001b[0;34m\u001b[0m\u001b[0;34m\u001b[0m\u001b[0m\n\u001b[1;32m     12\u001b[0m     \u001b[0;32mfor\u001b[0m \u001b[0mj\u001b[0m \u001b[0;32min\u001b[0m \u001b[0mrange\u001b[0m\u001b[0;34m(\u001b[0m\u001b[0mcols\u001b[0m\u001b[0;34m)\u001b[0m\u001b[0;34m:\u001b[0m\u001b[0;34m\u001b[0m\u001b[0;34m\u001b[0m\u001b[0m\n\u001b[0;32m---> 13\u001b[0;31m       \u001b[0melement\u001b[0m \u001b[0;34m=\u001b[0m \u001b[0mint\u001b[0m\u001b[0;34m(\u001b[0m\u001b[0minput\u001b[0m\u001b[0;34m(\u001b[0m\u001b[0;34mf\"Enter element at row {i+1}, column {j+1}: \"\u001b[0m\u001b[0;34m)\u001b[0m\u001b[0;34m)\u001b[0m\u001b[0;34m\u001b[0m\u001b[0;34m\u001b[0m\u001b[0m\n\u001b[0m\u001b[1;32m     14\u001b[0m       \u001b[0mrow\u001b[0m\u001b[0;34m.\u001b[0m\u001b[0mappend\u001b[0m\u001b[0;34m(\u001b[0m\u001b[0melement\u001b[0m\u001b[0;34m)\u001b[0m\u001b[0;34m\u001b[0m\u001b[0;34m\u001b[0m\u001b[0m\n\u001b[1;32m     15\u001b[0m     \u001b[0marray_2d\u001b[0m\u001b[0;34m.\u001b[0m\u001b[0mappend\u001b[0m\u001b[0;34m(\u001b[0m\u001b[0mrow\u001b[0m\u001b[0;34m)\u001b[0m\u001b[0;34m\u001b[0m\u001b[0;34m\u001b[0m\u001b[0m\n",
            "\u001b[0;31mValueError\u001b[0m: invalid literal for int() with base 10: '0 0 0 0 0 0'"
          ]
        }
      ]
    }
  ],
  "metadata": {
    "colab": {
      "provenance": [],
      "include_colab_link": true
    },
    "kernelspec": {
      "display_name": "Python 3",
      "name": "python3"
    },
    "language_info": {
      "name": "python"
    }
  },
  "nbformat": 4,
  "nbformat_minor": 0
}