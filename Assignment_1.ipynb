{
  "nbformat": 4,
  "nbformat_minor": 0,
  "metadata": {
    "colab": {
      "provenance": [],
      "toc_visible": true,
      "authorship_tag": "ABX9TyMBRWhuNigM83Lq5ThVbNp2",
      "include_colab_link": true
    },
    "kernelspec": {
      "name": "python3",
      "display_name": "Python 3"
    },
    "language_info": {
      "name": "python"
    }
  },
  "cells": [
    {
      "cell_type": "markdown",
      "metadata": {
        "id": "view-in-github",
        "colab_type": "text"
      },
      "source": [
        "<a href=\"https://colab.research.google.com/github/karan11111111111/AIL-3073-/blob/main/Assignment_1.ipynb\" target=\"_parent\"><img src=\"https://colab.research.google.com/assets/colab-badge.svg\" alt=\"Open In Colab\"/></a>"
      ]
    },
    {
      "cell_type": "code",
      "execution_count": 1,
      "metadata": {
        "colab": {
          "base_uri": "https://localhost:8080/"
        },
        "id": "dnkIiN3uZR0g",
        "outputId": "560d319a-899c-43d5-ef0e-e8c78e496a10"
      },
      "outputs": [
        {
          "output_type": "stream",
          "name": "stdout",
          "text": [
            "Shortest Path Using BFS: (1, 1) (1, 2) (1, 3) (1, 4) (2, 4) (3, 4) \n",
            "Nodes Explored by BFS: 23\n",
            "Any Path Using DFS: [(1, 1), (2, 1), (3, 1), (4, 1), (4, 2), (4, 3), (3, 3), (3, 4)]\n",
            "Nodes Explored by DFS: 10\n",
            "Comparison:\n",
            "BFS explored 23 nodes.\n",
            "DFS explored 10 nodes.\n"
          ]
        }
      ],
      "source": [
        "# Grid setup\n",
        "grid = [\n",
        "    [1, 1, 1, 1, 1],\n",
        "    [1, 1, 1, 1, 1],\n",
        "    [1, 1, 1, 0, 1],\n",
        "    [1, 1, 0, 1, 1],\n",
        "    [1, 1, 1, 1, 1]\n",
        "]\n",
        "\n",
        "start = (1, 1)\n",
        "end = (3, 4)\n",
        "\n",
        "\n",
        "# BFS Implementation\n",
        "def bfs(start, end, grid):\n",
        "    queue = []\n",
        "    r = len(grid)\n",
        "    c = len(grid[0])\n",
        "    nodes_explored = 0\n",
        "\n",
        "    visited = [[False for _ in range(c)] for _ in range(r)]\n",
        "    visited[start[0]][start[1]] = True\n",
        "    queue.append((start[0], start[1], 0, f'({start[0]}, {start[1]}) '))\n",
        "\n",
        "    while queue:\n",
        "        p = queue.pop(0)\n",
        "        nodes_explored += 1\n",
        "\n",
        "        if grid[p[0]][p[1]] == 0:\n",
        "            continue\n",
        "        if p[0] == end[0] and p[1] == end[1]:\n",
        "            return p[3], nodes_explored\n",
        "\n",
        "        # Move Down\n",
        "        if p[0] + 1 < r and not visited[p[0] + 1][p[1]]:\n",
        "            queue.append((p[0] + 1, p[1], p[2] + 1, p[3] + f'({p[0] + 1}, {p[1]}) '))\n",
        "            visited[p[0] + 1][p[1]] = True\n",
        "        # Move Up\n",
        "        if p[0] - 1 >= 0 and not visited[p[0] - 1][p[1]]:\n",
        "            queue.append((p[0] - 1, p[1], p[2] + 1, p[3] + f'({p[0] - 1}, {p[1]}) '))\n",
        "            visited[p[0] - 1][p[1]] = True\n",
        "        # Move Right\n",
        "        if p[1] + 1 < c and not visited[p[0]][p[1] + 1]:\n",
        "            queue.append((p[0], p[1] + 1, p[2] + 1, p[3] + f'({p[0]}, {p[1] + 1}) '))\n",
        "            visited[p[0]][p[1] + 1] = True\n",
        "        # Move Left\n",
        "        if p[1] - 1 >= 0 and not visited[p[0]][p[1] - 1]:\n",
        "            queue.append((p[0], p[1] - 1, p[2] + 1, p[3] + f'({p[0]}, {p[1] - 1}) '))\n",
        "            visited[p[0]][p[1] - 1] = True\n",
        "    return -1, nodes_explored\n",
        "\n",
        "\n",
        "# DFS Implementation\n",
        "def dfs(start, end, grid, visited, r, c, p, ans, nodes_explored):\n",
        "    nodes_explored[0] += 1\n",
        "    if end == p:\n",
        "        ans.append(p)\n",
        "        return True\n",
        "\n",
        "    if grid[p[0]][p[1]] == 0:\n",
        "        return False\n",
        "\n",
        "    directions = [(1, 0), (-1, 0), (0, 1), (0, -1)]  # Down, Up, Right, Left\n",
        "    for dx, dy in directions:\n",
        "        nx, ny = p[0] + dx, p[1] + dy\n",
        "        if 0 <= nx < r and 0 <= ny < c and not visited[nx][ny]:\n",
        "            visited[nx][ny] = True\n",
        "            if dfs(start, end, grid, visited, r, c, (nx, ny), ans, nodes_explored):\n",
        "                ans.append(p)\n",
        "                return True\n",
        "\n",
        "    return False\n",
        "\n",
        "\n",
        "# PART 1: BFS\n",
        "bfs_path, bfs_nodes_explored = bfs(start, end, grid)\n",
        "print(f\"Shortest Path Using BFS: {bfs_path}\")\n",
        "print(f\"Nodes Explored by BFS: {bfs_nodes_explored}\")\n",
        "\n",
        "# PART 2: DFS\n",
        "r = len(grid)\n",
        "c = len(grid[0])\n",
        "visited = [[False for _ in range(c)] for _ in range(r)]\n",
        "visited[start[0]][start[1]] = True\n",
        "ans = []\n",
        "dfs_nodes_explored = [0]\n",
        "if dfs(start, end, grid, visited, r, c, start, ans, dfs_nodes_explored):\n",
        "    ans.reverse()\n",
        "    print(f\"Any Path Using DFS: {ans}\")\n",
        "else:\n",
        "    print(\"No Path Found Using DFS\")\n",
        "print(f\"Nodes Explored by DFS: {dfs_nodes_explored[0]}\")\n",
        "\n",
        "# PART 3: Comparison\n",
        "print(f\"Comparison:\")\n",
        "print(f\"BFS explored {bfs_nodes_explored} nodes.\")\n",
        "print(f\"DFS explored {dfs_nodes_explored[0]} nodes.\")\n"
      ]
    }
  ]
}